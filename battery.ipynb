{
 "cells": [
  {
   "cell_type": "code",
   "execution_count": 1,
   "id": "8bd1aec6-f996-4579-9613-3706dfacedb5",
   "metadata": {},
   "outputs": [],
   "source": [
    "import pandas as pd \n",
    "import matplotlib.pyplot as plt \n",
    "import os\n",
    "import glob\n"
   ]
  },
  {
   "cell_type": "code",
   "execution_count": 9,
   "id": "0fbe0ace-d226-41a1-b8ca-2c6e9602cca5",
   "metadata": {},
   "outputs": [
    {
     "data": {
      "text/html": [
       "<div>\n",
       "<style scoped>\n",
       "    .dataframe tbody tr th:only-of-type {\n",
       "        vertical-align: middle;\n",
       "    }\n",
       "\n",
       "    .dataframe tbody tr th {\n",
       "        vertical-align: top;\n",
       "    }\n",
       "\n",
       "    .dataframe thead th {\n",
       "        text-align: right;\n",
       "    }\n",
       "</style>\n",
       "<table border=\"1\" class=\"dataframe\">\n",
       "  <thead>\n",
       "    <tr style=\"text-align: right;\">\n",
       "      <th></th>\n",
       "      <th>timestamp</th>\n",
       "      <th>value</th>\n",
       "      <th>status</th>\n",
       "    </tr>\n",
       "  </thead>\n",
       "  <tbody>\n",
       "    <tr>\n",
       "      <th>0</th>\n",
       "      <td>2025-08-15T00:54:52.832688</td>\n",
       "      <td>3573.0</td>\n",
       "      <td>DISCHARGING</td>\n",
       "    </tr>\n",
       "    <tr>\n",
       "      <th>1</th>\n",
       "      <td>2025-08-15T00:56:36.954091</td>\n",
       "      <td>3456.0</td>\n",
       "      <td>DISCHARGING</td>\n",
       "    </tr>\n",
       "    <tr>\n",
       "      <th>2</th>\n",
       "      <td>2025-08-15T00:57:22.618687</td>\n",
       "      <td>3478.0</td>\n",
       "      <td>DISCHARGING</td>\n",
       "    </tr>\n",
       "    <tr>\n",
       "      <th>3</th>\n",
       "      <td>2025-08-15T00:57:33.331853</td>\n",
       "      <td>3471.0</td>\n",
       "      <td>DISCHARGING</td>\n",
       "    </tr>\n",
       "    <tr>\n",
       "      <th>4</th>\n",
       "      <td>2025-08-15T00:59:03.402056</td>\n",
       "      <td>3472.0</td>\n",
       "      <td>DISCHARGING</td>\n",
       "    </tr>\n",
       "  </tbody>\n",
       "</table>\n",
       "</div>"
      ],
      "text/plain": [
       "                    timestamp   value       status\n",
       "0  2025-08-15T00:54:52.832688  3573.0  DISCHARGING\n",
       "1  2025-08-15T00:56:36.954091  3456.0  DISCHARGING\n",
       "2  2025-08-15T00:57:22.618687  3478.0  DISCHARGING\n",
       "3  2025-08-15T00:57:33.331853  3471.0  DISCHARGING\n",
       "4  2025-08-15T00:59:03.402056  3472.0  DISCHARGING"
      ]
     },
     "execution_count": 9,
     "metadata": {},
     "output_type": "execute_result"
    },
    {
     "data": {
      "text/plain": [
       "<Figure size 1000x500 with 0 Axes>"
      ]
     },
     "metadata": {},
     "output_type": "display_data"
    }
   ],
   "source": [
    "base_path = %pwd\n",
    "categories = [\n",
    "    'voltage', \n",
    "    'temperature',\n",
    "    'percentage'\n",
    "]\n",
    "\n",
    "plt.figure(figsize=(10,5))\n",
    "df = pd.DataFrame()\n",
    "for cat in categories: \n",
    "    #cat_path = os.path.join(base_path, cat)\n",
    "    csv_files = glob.glob(os.path.join(cat,'*.csv'))\n",
    "    for csv in csv_files:\n",
    "        df_temp = pd.read_csv(csv)\n",
    "        df = pd.concat([df,df_temp])\n",
    "\n",
    "df.head()"
   ]
  },
  {
   "cell_type": "code",
   "execution_count": null,
   "id": "7de3709d-e4e8-4353-83d5-ff28fa910d2c",
   "metadata": {},
   "outputs": [],
   "source": []
  }
 ],
 "metadata": {
  "kernelspec": {
   "display_name": "Python 3 (ipykernel)",
   "language": "python",
   "name": "python3"
  },
  "language_info": {
   "codemirror_mode": {
    "name": "ipython",
    "version": 3
   },
   "file_extension": ".py",
   "mimetype": "text/x-python",
   "name": "python",
   "nbconvert_exporter": "python",
   "pygments_lexer": "ipython3",
   "version": "3.12.11"
  }
 },
 "nbformat": 4,
 "nbformat_minor": 5
}
